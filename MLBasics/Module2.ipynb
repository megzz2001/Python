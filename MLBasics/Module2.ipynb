{
 "cells": [
  {
   "cell_type": "markdown",
   "metadata": {
    "colab_type": "text",
    "id": "yvRFuFBLrsac"
   },
   "source": [
    "# Machine Learning Basics\n",
    "In this module, you'll be implementing a simple Linear Regressor and Logistic Regressor. Obtain salary data using `wget` from [here](https://raw.githubusercontent.com/solarillion/MLBasics/master/Data/Salary_Data.csv). <br> <br>\n",
    "**Pipeline:**\n",
    "* Acquiring the data - done\n",
    "* Handling files and formats - done\n",
    "* Data Analysis - done\n",
    "* Prediction\n",
    "* Analysing results"
   ]
  },
  {
   "cell_type": "markdown",
   "metadata": {
    "colab_type": "text",
    "id": "AwvgLLICtyt_"
   },
   "source": [
    "## Imports\n",
    "You may require NumPy, pandas, matplotlib and scikit-learn for this module. Do not, however, use the inbuilt Linear and Logistic Regressors from scikit-learn."
   ]
  },
  {
   "cell_type": "code",
   "execution_count": 15,
   "metadata": {},
   "outputs": [],
   "source": [
    "import numpy as np\n",
    "import pandas as pd\n",
    "import matplotlib.pyplot as plt\n",
    "import sklearn\n",
    "import random\n",
    "from sklearn.model_selection import train_test_split"
   ]
  },
  {
   "cell_type": "markdown",
   "metadata": {
    "colab_type": "text",
    "id": "yE5Sz6nKvjTS"
   },
   "source": [
    "## Dataset\n",
    "You can load the dataset and perform any dataset related operations here. Split the data into training and testing sets. Do this separately for the regression and classification problems."
   ]
  },
  {
   "cell_type": "code",
   "execution_count": 13,
   "metadata": {},
   "outputs": [
    {
     "name": "stdout",
     "output_type": "stream",
     "text": [
      "    YearsExperience    Salary\n",
      "12              4.0   56957.0\n",
      "1               1.3   46205.0\n",
      "6               3.0   60150.0\n",
      "28             10.3  122391.0\n",
      "5               2.9   56642.0\n",
      "25              9.0  105582.0\n",
      "21              7.1   98273.0\n",
      "20              6.8   91738.0\n",
      "18              5.9   81363.0\n",
      "23              8.2  113812.0\n",
      "4               2.2   39891.0\n",
      "8               3.2   64445.0\n",
      "27              9.6  112635.0\n",
      "11              4.0   55794.0\n",
      "10              3.9   63218.0\n",
      "    YearsExperience    Salary\n",
      "14              4.5   61111.0\n",
      "29             10.5  121872.0\n",
      "15              4.9   67938.0\n",
      "19              6.0   93940.0\n",
      "24              8.7  109431.0\n",
      "3               2.0   43525.0\n",
      "16              5.1   66029.0\n",
      "17              5.3   83088.0\n",
      "2               1.5   37731.0\n",
      "7               3.2   54445.0\n",
      "22              7.9  101302.0\n",
      "9               3.7   57189.0\n",
      "26              9.5  116969.0\n",
      "13              4.1   57081.0\n",
      "0               1.1   39343.0\n"
     ]
    }
   ],
   "source": [
    "data=pd.read_csv(\"C:/Users/91950/Desktop/MLBasics-master/MLBasics-master/Data/Salary_Data.csv\")\n",
    "data\n",
    "train, test = sklearn.model_selection.train_test_split(data, train_size = 0.5)\n",
    "print(train)\n",
    "print(test)"
   ]
  },
  {
   "cell_type": "markdown",
   "metadata": {
    "colab_type": "text",
    "id": "VienPTZA1ZEr"
   },
   "source": [
    "## Task 1a - Linear Regressor\n",
    "Code your own Linear Regressor here, and fit it to your training data. You will be predicting salary based on years of experience."
   ]
  },
  {
   "cell_type": "code",
   "execution_count": 14,
   "metadata": {},
   "outputs": [
    {
     "name": "stdout",
     "output_type": "stream",
     "text": [
      "5.427 77939.733\n",
      "9174.786 28148.169\n",
      "    YearsExperience    Salary  EstimatedSalary\n",
      "12              4.0   56957.0        64847.313\n",
      "1               1.3   46205.0        40075.391\n",
      "6               3.0   60150.0        55672.527\n",
      "28             10.3  122391.0       122648.465\n",
      "5               2.9   56642.0        54755.048\n",
      "25              9.0  105582.0       110721.243\n",
      "21              7.1   98273.0        93289.150\n",
      "20              6.8   91738.0        90536.714\n",
      "18              5.9   81363.0        82279.406\n",
      "23              8.2  113812.0       103381.414\n",
      "4               2.2   39891.0        48332.698\n",
      "8               3.2   64445.0        57507.484\n",
      "27              9.6  112635.0       116226.115\n",
      "11              4.0   55794.0        64847.313\n",
      "10              3.9   63218.0        63929.834\n"
     ]
    }
   ],
   "source": [
    "def linear_regressor(df):\n",
    "    n=len(df)\n",
    "    X=df['YearsExperience']\n",
    "    Y=df['Salary']\n",
    "    x=list(X)\n",
    "    y=list(Y)\n",
    "    x_mean=round(sum(x)/n, 3)\n",
    "    y_mean=round(sum(y)/n, 3)\n",
    "    print(x_mean, y_mean)\n",
    "\n",
    "    num=0\n",
    "    den=0\n",
    "    for i in range(n):\n",
    "        num+= (x[i]-x_mean)*(y[i]-y_mean)\n",
    "        den+= (x[i]-x_mean)**2\n",
    "    m= round(num/den, 3)\n",
    "    c= round(y_mean-(m*x_mean), 3)\n",
    "    print(m,c)\n",
    "\n",
    "    yp=[]\n",
    "    for i in range (n):\n",
    "        y_pred= m*x[i] + c\n",
    "        y_pred=round(y_pred, 3)\n",
    "        yp.append(y_pred)\n",
    "    df['EstimatedSalary']=np.array(yp)\n",
    "    print(df)\n",
    "\n",
    "linear_regressor(train)\n",
    "\n"
   ]
  },
  {
   "cell_type": "code",
   "execution_count": 15,
   "metadata": {},
   "outputs": [
    {
     "data": {
      "image/png": "[encoded data removed]",
      "text/plain": [
       "<Figure size 640x480 with 1 Axes>"
      ]
     },
     "metadata": {},
     "output_type": "display_data"
    }
   ],
   "source": [
    "plt.scatter(train['YearsExperience'], train['Salary'])\n",
    "plt.scatter(train['YearsExperience'], train['EstimatedSalary'], color='red')\n",
    "plt.plot(train['YearsExperience'], train['EstimatedSalary'], color='red')\n",
    "plt.show()"
   ]
  },
  {
   "cell_type": "markdown",
   "metadata": {},
   "source": [
    "## Task 1b - Logistic Regression\n",
    "Code your own Logistic Regressor here, and fit it to your training data. You will first have to create a column, 'Salary<60000', which contains '1' if salary is less than 60000 and '0' otherwise. This is your target variable, which you will aim to predict based on years of experience."
   ]
  },
  {
   "cell_type": "code",
   "execution_count": 16,
   "metadata": {},
   "outputs": [
    {
     "name": "stdout",
     "output_type": "stream",
     "text": [
      "    YearsExperience    Salary\n",
      "1               1.3   46205.0\n",
      "24              8.7  109431.0\n",
      "28             10.3  122391.0\n",
      "21              7.1   98273.0\n",
      "15              4.9   67938.0\n",
      "9               3.7   57189.0\n",
      "19              6.0   93940.0\n",
      "7               3.2   54445.0\n",
      "14              4.5   61111.0\n",
      "2               1.5   37731.0\n",
      "0               1.1   39343.0\n",
      "23              8.2  113812.0\n",
      "11              4.0   55794.0\n",
      "29             10.5  121872.0\n",
      "6               3.0   60150.0\n",
      "    YearsExperience    Salary\n",
      "25              9.0  105582.0\n",
      "4               2.2   39891.0\n",
      "20              6.8   91738.0\n",
      "5               2.9   56642.0\n",
      "3               2.0   43525.0\n",
      "10              3.9   63218.0\n",
      "12              4.0   56957.0\n",
      "26              9.5  116969.0\n",
      "8               3.2   64445.0\n",
      "17              5.3   83088.0\n",
      "22              7.9  101302.0\n",
      "16              5.1   66029.0\n",
      "13              4.1   57081.0\n",
      "18              5.9   81363.0\n",
      "27              9.6  112635.0\n"
     ]
    }
   ],
   "source": [
    "data=pd.read_csv(\"C:/Users/91950/Desktop/MLBasics-master/MLBasics-master/Data/Salary_Data.csv\")\n",
    "train_log, test_log = sklearn.model_selection.train_test_split(data, train_size = 0.5)\n",
    "print(train_log)\n",
    "print(test_log)"
   ]
  },
  {
   "cell_type": "code",
   "execution_count": 17,
   "metadata": {},
   "outputs": [
    {
     "name": "stdout",
     "output_type": "stream",
     "text": [
      "    YearsExperience    Salary  Salary<60000\n",
      "1               1.3   46205.0             1\n",
      "24              8.7  109431.0             0\n",
      "28             10.3  122391.0             0\n",
      "21              7.1   98273.0             0\n",
      "15              4.9   67938.0             0\n",
      "9               3.7   57189.0             1\n",
      "19              6.0   93940.0             0\n",
      "7               3.2   54445.0             1\n",
      "14              4.5   61111.0             0\n",
      "2               1.5   37731.0             1\n",
      "0               1.1   39343.0             1\n",
      "23              8.2  113812.0             0\n",
      "11              4.0   55794.0             1\n",
      "29             10.5  121872.0             0\n",
      "6               3.0   60150.0             0\n",
      "    YearsExperience    Salary  Salary<60000\n",
      "25              9.0  105582.0             0\n",
      "4               2.2   39891.0             1\n",
      "20              6.8   91738.0             0\n",
      "5               2.9   56642.0             1\n",
      "3               2.0   43525.0             1\n",
      "10              3.9   63218.0             0\n",
      "12              4.0   56957.0             1\n",
      "26              9.5  116969.0             0\n",
      "8               3.2   64445.0             0\n",
      "17              5.3   83088.0             0\n",
      "22              7.9  101302.0             0\n",
      "16              5.1   66029.0             0\n",
      "13              4.1   57081.0             1\n",
      "18              5.9   81363.0             0\n",
      "27              9.6  112635.0             0\n"
     ]
    },
    {
     "data": {
      "image/png": "[encoded data removed]",
      "text/plain": [
       "<Figure size 640x480 with 1 Axes>"
      ]
     },
     "metadata": {},
     "output_type": "display_data"
    }
   ],
   "source": [
    "def split_df(df):\n",
    "    \n",
    "    s=[]\n",
    "    for x in df['Salary']:\n",
    "        if x<60000:\n",
    "            s.append(1)\n",
    "        else:\n",
    "            s.append(0)\n",
    "    df['Salary<60000']=s\n",
    "    print(df)\n",
    "split_df(train_log)\n",
    "split_df(test_log)\n",
    "\n",
    "plt.scatter(train_log['YearsExperience'], train_log['Salary<60000'])\n",
    "plt.show()"
   ]
  },
  {
   "cell_type": "code",
   "execution_count": 27,
   "metadata": {},
   "outputs": [
    {
     "name": "stdout",
     "output_type": "stream",
     "text": [
      "[ 1.3  8.7 10.3  7.1  4.9  3.7  6.   3.2  4.5  1.5  1.1  8.2  4.  10.5\n",
      "  3. ]\n"
     ]
    }
   ],
   "source": [
    "X=np.array(train_log['YearsExperience']) #X is 15x1\n",
    "Y=np.array(train_log['Salary<60000']) #Y is 15x1"
   ]
  },
  {
   "cell_type": "code",
   "execution_count": 114,
   "metadata": {},
   "outputs": [],
   "source": [
    "class Logistic_Regression():\n",
    "    def init(self, lr, itr):\n",
    "        self.lr=lr\n",
    "        self.itr=itr\n",
    "        \n",
    "    def fit(self, X, Y):\n",
    "        self.m=len(X)\n",
    "        X=np.reshape(X, (self.m, 1))\n",
    "        self.X=X #X is 15x1\n",
    "        Y=np.reshape(Y, (self.m, 1))\n",
    "        self.Y=Y #Y is 15x1\n",
    "        self.w=np.zeros(self.m) #w is 15x1\n",
    "        self.w=np.reshape(self.w, (self.m, 1))\n",
    "        #print(self.w.shape)\n",
    "        self.b=0\n",
    "        \n",
    "        for i in range(self.itr):\n",
    "            yp= 1/ (1+np.exp(-(self.X.T.dot(self.w)+self.b))) #yp shape 1x1\n",
    "            dw= (1/self.m)*np.dot(self.X.T, (yp-self.Y)) #dw shape 1x1\n",
    "            db=(1/self.m)*np.sum(yp-self.Y)\n",
    "            self.w-=self.lr*dw\n",
    "            self.b-=self.lr*db\n",
    "        print(self.w)\n",
    "        \n",
    "            \n",
    "    def predict(self, X):\n",
    "        X=np.reshape(X, (self.m, 1))\n",
    "        Y_pred= 1/ (1+np.exp(-(X.T.dot(self.w)+self.b)))\n",
    "        #print(self.w.shape)\n",
    "        Y_pred=np.where(Y_pred>0.5, 1, 0)\n",
    "        print(Y_pred)\n",
    "        "
   ]
  },
  {
   "cell_type": "code",
   "execution_count": 115,
   "metadata": {},
   "outputs": [
    {
     "name": "stdout",
     "output_type": "stream",
     "text": [
      "[[-0.01058629]\n",
      " [-0.01058629]\n",
      " [-0.01058629]\n",
      " [-0.01058629]\n",
      " [-0.01058629]\n",
      " [-0.01058629]\n",
      " [-0.01058629]\n",
      " [-0.01058629]\n",
      " [-0.01058629]\n",
      " [-0.01058629]\n",
      " [-0.01058629]\n",
      " [-0.01058629]\n",
      " [-0.01058629]\n",
      " [-0.01058629]\n",
      " [-0.01058629]]\n",
      "[[0]]\n"
     ]
    }
   ],
   "source": [
    "m=Logistic_Regression()\n",
    "m.init(lr=0.001, itr=10)\n",
    "m.fit(X, Y)\n",
    "m.predict(X)\n"
   ]
  },
  {
   "cell_type": "markdown",
   "metadata": {
    "colab_type": "text",
    "id": "vaCu6RS52qYf"
   },
   "source": [
    "## Task 2 - Results\n",
    "Analyse the quality of the ML models you built using metrics such as R2, MAE and RMSE for the Linear Regressor, and Accuracy for the Logistic Regressor. Evaluate their performance on the testing set."
   ]
  },
  {
   "cell_type": "code",
   "execution_count": null,
   "metadata": {},
   "outputs": [],
   "source": []
  }
 ],
 "metadata": {
  "colab": {
   "name": "Untitled15.ipynb",
   "provenance": [],
   "version": "0.3.2"
  },
  "kernelspec": {
   "display_name": "Python 3 (ipykernel)",
   "language": "python",
   "name": "python3"
  },
  "language_info": {
   "codemirror_mode": {
    "name": "ipython",
    "version": 3
   },
   "file_extension": ".py",
   "mimetype": "text/x-python",
   "name": "python",
   "nbconvert_exporter": "python",
   "pygments_lexer": "ipython3",
   "version": "3.9.13"
  }
 },
 "nbformat": 4,
 "nbformat_minor": 1
}
